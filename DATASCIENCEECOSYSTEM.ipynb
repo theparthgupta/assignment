{
 "cells": [
  {
   "cell_type": "markdown",
   "id": "d7b50fb0",
   "metadata": {},
   "source": [
    "# DATA SCIENCE TOOLS AND ECOSYSTEM"
   ]
  },
  {
   "cell_type": "markdown",
   "id": "528fd186",
   "metadata": {},
   "source": [
    "IN THIS NOTEBOOK DATA SCIENCE TOOLS and ecosystem are summarised"
   ]
  },
  {
   "cell_type": "markdown",
   "id": "cfb1277b",
   "metadata": {},
   "source": [
    "some of the popular languages that data scientists use are:\n",
    "1. python\n",
    "2. r\n",
    "3. sql\n",
    "4. c++\n",
    "5. java etc...."
   ]
  },
  {
   "cell_type": "markdown",
   "id": "58e5d4a7",
   "metadata": {},
   "source": [
    "some of the commonly used libraries used by data scientist include :\n",
    "1. tensorflow\n",
    "2. numpy\n",
    "3. scipy\n",
    "4. pandas\n",
    "5. matplotlib\n",
    "6. keras\n",
    "7. scikit-learn\n",
    "8. pytorch"
   ]
  },
  {
   "cell_type": "markdown",
   "id": "24429632",
   "metadata": {},
   "source": [
    "| data science tools|\n",
    "|---|\n",
    "|sas|\n",
    "|apache hadoop|\n",
    "|tensorflow|"
   ]
  },
  {
   "cell_type": "markdown",
   "id": "3609fee0",
   "metadata": {},
   "source": [
    "# Below area few examples of evaluating arithmetic expressions in python"
   ]
  },
  {
   "cell_type": "code",
   "execution_count": 2,
   "id": "8ae6ea73",
   "metadata": {},
   "outputs": [
    {
     "data": {
      "text/plain": [
       "17"
      ]
     },
     "execution_count": 2,
     "metadata": {},
     "output_type": "execute_result"
    }
   ],
   "source": [
    "#this tis the arithmetic example\n",
    "(3*4)+5"
   ]
  },
  {
   "cell_type": "code",
   "execution_count": 3,
   "id": "cf0923f7",
   "metadata": {},
   "outputs": [
    {
     "data": {
      "text/plain": [
       "3.3333333333333335"
      ]
     },
     "execution_count": 3,
     "metadata": {},
     "output_type": "execute_result"
    }
   ],
   "source": [
    "#this converts 200 min to hours \n",
    "200/60"
   ]
  },
  {
   "cell_type": "markdown",
   "id": "d90a88ab",
   "metadata": {},
   "source": [
    "__objectice__\n",
    "\n",
    "* list popular languages\n",
    "* list popular libraries\n",
    "* list well known tolls\n",
    "* how to provide comments"
   ]
  },
  {
   "cell_type": "markdown",
   "id": "93aee090",
   "metadata": {},
   "source": [
    "## Author\n",
    "Parth Gupta"
   ]
  }
 ],
 "metadata": {
  "kernelspec": {
   "display_name": "Python 3 (ipykernel)",
   "language": "python",
   "name": "python3"
  },
  "language_info": {
   "codemirror_mode": {
    "name": "ipython",
    "version": 3
   },
   "file_extension": ".py",
   "mimetype": "text/x-python",
   "name": "python",
   "nbconvert_exporter": "python",
   "pygments_lexer": "ipython3",
   "version": "3.11.5"
  }
 },
 "nbformat": 4,
 "nbformat_minor": 5
}
